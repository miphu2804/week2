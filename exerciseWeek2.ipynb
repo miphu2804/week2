{
  "nbformat": 4,
  "nbformat_minor": 0,
  "metadata": {
    "colab": {
      "provenance": [],
      "authorship_tag": "ABX9TyNgGs3rIObLAP6n7SGsSXQr",
      "include_colab_link": true
    },
    "kernelspec": {
      "name": "python3",
      "display_name": "Python 3"
    },
    "language_info": {
      "name": "python"
    }
  },
  "cells": [
    {
      "cell_type": "markdown",
      "metadata": {
        "id": "view-in-github",
        "colab_type": "text"
      },
      "source": [
        "<a href=\"https://colab.research.google.com/github/miphu2804/week2/blob/main/exerciseWeek2.ipynb\" target=\"_parent\"><img src=\"https://colab.research.google.com/assets/colab-badge.svg\" alt=\"Open In Colab\"/></a>"
      ]
    },
    {
      "cell_type": "code",
      "execution_count": 14,
      "metadata": {
        "colab": {
          "base_uri": "https://localhost:8080/"
        },
        "id": "Im1kFZomL5kA",
        "outputId": "87c06c75-821e-4da3-f500-4121483180c5"
      },
      "outputs": [
        {
          "output_type": "stream",
          "name": "stdout",
          "text": [
            "window:[3, 4, 5], max:5\n",
            "window:[4, 5, 1], max:5\n",
            "window:[5, 1, -44], max:5\n",
            "window:[1, -44, 5], max:5\n",
            "window:[-44, 5, 10], max:10\n",
            "window:[5, 10, 12], max:12\n",
            "window:[10, 12, 33], max:33\n",
            "window:[12, 33, 1], max:33\n"
          ]
        }
      ],
      "source": [
        "#Cau 1: sliding window\n",
        "def findMaxInWindow(num_list, k):\n",
        "  window = num_list[:k]\n",
        "  print(f\"window:{window}, max:{max(window)}\")\n",
        "  for i in range(0, len(num_list)):\n",
        "    if i + k < len(num_list):\n",
        "      window.append(num_list[i + k])\n",
        "      window.remove(num_list[i])\n",
        "      print(f\"window:{window}, max:{max(window)}\")\n",
        "\n",
        "\n",
        "if __name__ == \"__main__\":\n",
        "  #Tong quat: num_list = list(map(int, input().split())))\n",
        "             # k = int(input())\n",
        "  num_list = [3, 4, 5, 1, -44 , 5 ,10, 12 ,33, 1] #Mang nhap vao\n",
        "  k = 3\n",
        "  findMaxInWindow(num_list, k)"
      ]
    },
    {
      "cell_type": "code",
      "source": [
        "#cau 2\n",
        "def countChars(string):\n",
        "  myDict = {} #Tao 1 dict rong\n",
        "  for key in string:\n",
        "    count = 0\n",
        "    for char in string:\n",
        "      if key == char:\n",
        "        count += 1\n",
        "        myDict[char] = count # update value cua key\n",
        "  print(myDict)\n",
        "\n",
        "\n",
        "if __name__ == \"__main__\":\n",
        "  #nhap vao string: bo khoang trang hai dau string\n",
        "  string = input().strip()\n",
        "  countChars(string)"
      ],
      "metadata": {
        "colab": {
          "base_uri": "https://localhost:8080/"
        },
        "id": "RjMzjTaBNsbb",
        "outputId": "fce01241-56a6-43ce-cb0a-32f6350351ef"
      },
      "execution_count": 16,
      "outputs": [
        {
          "output_type": "stream",
          "name": "stdout",
          "text": [
            "Happiness\n",
            "{'H': 1, 'a': 1, 'p': 2, 'i': 1, 'n': 1, 'e': 1, 's': 2}\n"
          ]
        }
      ]
    },
    {
      "cell_type": "code",
      "source": [
        "#upload file cho cau 3\n",
        "from google.colab import files\n",
        "file = files.upload()"
      ],
      "metadata": {
        "colab": {
          "base_uri": "https://localhost:8080/",
          "height": 73
        },
        "id": "SxU5VFNlW_Lp",
        "outputId": "f8116fe2-8109-4ee6-b1ca-3cf6500bac41"
      },
      "execution_count": 25,
      "outputs": [
        {
          "output_type": "display_data",
          "data": {
            "text/plain": [
              "<IPython.core.display.HTML object>"
            ],
            "text/html": [
              "\n",
              "     <input type=\"file\" id=\"files-cd84aae4-0c0f-4adc-9849-6eea7e74d2ad\" name=\"files[]\" multiple disabled\n",
              "        style=\"border:none\" />\n",
              "     <output id=\"result-cd84aae4-0c0f-4adc-9849-6eea7e74d2ad\">\n",
              "      Upload widget is only available when the cell has been executed in the\n",
              "      current browser session. Please rerun this cell to enable.\n",
              "      </output>\n",
              "      <script>// Copyright 2017 Google LLC\n",
              "//\n",
              "// Licensed under the Apache License, Version 2.0 (the \"License\");\n",
              "// you may not use this file except in compliance with the License.\n",
              "// You may obtain a copy of the License at\n",
              "//\n",
              "//      http://www.apache.org/licenses/LICENSE-2.0\n",
              "//\n",
              "// Unless required by applicable law or agreed to in writing, software\n",
              "// distributed under the License is distributed on an \"AS IS\" BASIS,\n",
              "// WITHOUT WARRANTIES OR CONDITIONS OF ANY KIND, either express or implied.\n",
              "// See the License for the specific language governing permissions and\n",
              "// limitations under the License.\n",
              "\n",
              "/**\n",
              " * @fileoverview Helpers for google.colab Python module.\n",
              " */\n",
              "(function(scope) {\n",
              "function span(text, styleAttributes = {}) {\n",
              "  const element = document.createElement('span');\n",
              "  element.textContent = text;\n",
              "  for (const key of Object.keys(styleAttributes)) {\n",
              "    element.style[key] = styleAttributes[key];\n",
              "  }\n",
              "  return element;\n",
              "}\n",
              "\n",
              "// Max number of bytes which will be uploaded at a time.\n",
              "const MAX_PAYLOAD_SIZE = 100 * 1024;\n",
              "\n",
              "function _uploadFiles(inputId, outputId) {\n",
              "  const steps = uploadFilesStep(inputId, outputId);\n",
              "  const outputElement = document.getElementById(outputId);\n",
              "  // Cache steps on the outputElement to make it available for the next call\n",
              "  // to uploadFilesContinue from Python.\n",
              "  outputElement.steps = steps;\n",
              "\n",
              "  return _uploadFilesContinue(outputId);\n",
              "}\n",
              "\n",
              "// This is roughly an async generator (not supported in the browser yet),\n",
              "// where there are multiple asynchronous steps and the Python side is going\n",
              "// to poll for completion of each step.\n",
              "// This uses a Promise to block the python side on completion of each step,\n",
              "// then passes the result of the previous step as the input to the next step.\n",
              "function _uploadFilesContinue(outputId) {\n",
              "  const outputElement = document.getElementById(outputId);\n",
              "  const steps = outputElement.steps;\n",
              "\n",
              "  const next = steps.next(outputElement.lastPromiseValue);\n",
              "  return Promise.resolve(next.value.promise).then((value) => {\n",
              "    // Cache the last promise value to make it available to the next\n",
              "    // step of the generator.\n",
              "    outputElement.lastPromiseValue = value;\n",
              "    return next.value.response;\n",
              "  });\n",
              "}\n",
              "\n",
              "/**\n",
              " * Generator function which is called between each async step of the upload\n",
              " * process.\n",
              " * @param {string} inputId Element ID of the input file picker element.\n",
              " * @param {string} outputId Element ID of the output display.\n",
              " * @return {!Iterable<!Object>} Iterable of next steps.\n",
              " */\n",
              "function* uploadFilesStep(inputId, outputId) {\n",
              "  const inputElement = document.getElementById(inputId);\n",
              "  inputElement.disabled = false;\n",
              "\n",
              "  const outputElement = document.getElementById(outputId);\n",
              "  outputElement.innerHTML = '';\n",
              "\n",
              "  const pickedPromise = new Promise((resolve) => {\n",
              "    inputElement.addEventListener('change', (e) => {\n",
              "      resolve(e.target.files);\n",
              "    });\n",
              "  });\n",
              "\n",
              "  const cancel = document.createElement('button');\n",
              "  inputElement.parentElement.appendChild(cancel);\n",
              "  cancel.textContent = 'Cancel upload';\n",
              "  const cancelPromise = new Promise((resolve) => {\n",
              "    cancel.onclick = () => {\n",
              "      resolve(null);\n",
              "    };\n",
              "  });\n",
              "\n",
              "  // Wait for the user to pick the files.\n",
              "  const files = yield {\n",
              "    promise: Promise.race([pickedPromise, cancelPromise]),\n",
              "    response: {\n",
              "      action: 'starting',\n",
              "    }\n",
              "  };\n",
              "\n",
              "  cancel.remove();\n",
              "\n",
              "  // Disable the input element since further picks are not allowed.\n",
              "  inputElement.disabled = true;\n",
              "\n",
              "  if (!files) {\n",
              "    return {\n",
              "      response: {\n",
              "        action: 'complete',\n",
              "      }\n",
              "    };\n",
              "  }\n",
              "\n",
              "  for (const file of files) {\n",
              "    const li = document.createElement('li');\n",
              "    li.append(span(file.name, {fontWeight: 'bold'}));\n",
              "    li.append(span(\n",
              "        `(${file.type || 'n/a'}) - ${file.size} bytes, ` +\n",
              "        `last modified: ${\n",
              "            file.lastModifiedDate ? file.lastModifiedDate.toLocaleDateString() :\n",
              "                                    'n/a'} - `));\n",
              "    const percent = span('0% done');\n",
              "    li.appendChild(percent);\n",
              "\n",
              "    outputElement.appendChild(li);\n",
              "\n",
              "    const fileDataPromise = new Promise((resolve) => {\n",
              "      const reader = new FileReader();\n",
              "      reader.onload = (e) => {\n",
              "        resolve(e.target.result);\n",
              "      };\n",
              "      reader.readAsArrayBuffer(file);\n",
              "    });\n",
              "    // Wait for the data to be ready.\n",
              "    let fileData = yield {\n",
              "      promise: fileDataPromise,\n",
              "      response: {\n",
              "        action: 'continue',\n",
              "      }\n",
              "    };\n",
              "\n",
              "    // Use a chunked sending to avoid message size limits. See b/62115660.\n",
              "    let position = 0;\n",
              "    do {\n",
              "      const length = Math.min(fileData.byteLength - position, MAX_PAYLOAD_SIZE);\n",
              "      const chunk = new Uint8Array(fileData, position, length);\n",
              "      position += length;\n",
              "\n",
              "      const base64 = btoa(String.fromCharCode.apply(null, chunk));\n",
              "      yield {\n",
              "        response: {\n",
              "          action: 'append',\n",
              "          file: file.name,\n",
              "          data: base64,\n",
              "        },\n",
              "      };\n",
              "\n",
              "      let percentDone = fileData.byteLength === 0 ?\n",
              "          100 :\n",
              "          Math.round((position / fileData.byteLength) * 100);\n",
              "      percent.textContent = `${percentDone}% done`;\n",
              "\n",
              "    } while (position < fileData.byteLength);\n",
              "  }\n",
              "\n",
              "  // All done.\n",
              "  yield {\n",
              "    response: {\n",
              "      action: 'complete',\n",
              "    }\n",
              "  };\n",
              "}\n",
              "\n",
              "scope.google = scope.google || {};\n",
              "scope.google.colab = scope.google.colab || {};\n",
              "scope.google.colab._files = {\n",
              "  _uploadFiles,\n",
              "  _uploadFilesContinue,\n",
              "};\n",
              "})(self);\n",
              "</script> "
            ]
          },
          "metadata": {}
        },
        {
          "output_type": "stream",
          "name": "stdout",
          "text": [
            "Saving P1_data.txt to P1_data (1).txt\n"
          ]
        }
      ]
    },
    {
      "cell_type": "code",
      "source": [
        "# cau 3\n",
        "\n",
        "def readFile():\n",
        "  with open(f\"/content/P1_data.txt\", \"r\") as file: #nhap vao file txt viet tat la file\n",
        "    for lines in file:\n",
        "      words = lines.split()#tra ve list cac chu tren tung dong\n",
        "      wordCount(words)#goi ham de dem\n",
        "\n",
        "\n",
        "def wordCount(words):\n",
        "  myDict = {}\n",
        "  for word in words:\n",
        "    if word in myDict:\n",
        "      myDict[word] += 1\n",
        "    else:\n",
        "      myDict[word] = 1\n",
        "  print(myDict)\n",
        "\n",
        "\n",
        "if __name__ == \"__main__\":\n",
        "  readFile()"
      ],
      "metadata": {
        "colab": {
          "base_uri": "https://localhost:8080/"
        },
        "id": "WTbEhhTCUvHq",
        "outputId": "3e6a977e-55eb-4740-c236-d97a56894be2"
      },
      "execution_count": 46,
      "outputs": [
        {
          "output_type": "stream",
          "name": "stdout",
          "text": [
            "{'He': 1, 'who': 1, 'conquers': 1, 'himself': 1, 'is': 1, 'the': 1, 'mightiest': 1, 'warrior': 1}\n",
            "{'Try': 1, 'not': 1, 'to': 1, 'become': 2, 'a': 2, 'man': 2, 'of': 2, 'success': 1, 'but': 1, 'rather': 1, 'value': 1}\n",
            "{'One': 1, 'man': 1, 'with': 1, 'courage': 1, 'makes': 1, 'a': 1, 'majority': 1}\n",
            "{'One': 1, 'secret': 1, 'of': 1, 'success': 1, 'in': 1, 'life': 1, 'is': 1, 'for': 2, 'a': 1, 'man': 1, 'to': 1, 'be': 1, 'ready': 1, 'his': 1, 'opportunity': 1, 'when': 1, 'it': 1, 'comes': 1}\n",
            "{'The': 1, 'successful': 1, 'man': 1, 'will': 1, 'profit': 1, 'from': 1, 'his': 1, 'mistakes': 1, 'and': 1, 'try': 1, 'again': 1, 'in': 1, 'a': 1, 'different': 1, 'way': 1}\n",
            "{'A': 1, 'successful': 1, 'man': 1, 'is': 1, 'one': 1, 'who': 1, 'can': 1, 'lay': 1, 'a': 1, 'firm': 1, 'foundation': 1, 'with': 1, 'the': 1, 'bricks': 1, 'others': 1, 'have': 1, 'thrown': 1, 'at': 1, 'him': 1}\n",
            "{'Success': 1, 'usually': 1, 'comes': 1, 'to': 1, 'those': 1, 'who': 1, 'are': 1, 'too': 1, 'busy': 1, 'looking': 1, 'for': 1, 'it': 1}\n",
            "{'We': 1, 'cannot': 1, 'solve': 1, 'problems': 1, 'with': 2, 'the': 1, 'kind': 1, 'of': 1, 'thinking': 1, 'we': 2, 'employed': 1, 'when': 1, 'came': 1, 'up': 1, 'them': 1}\n",
            "{'Just': 1, 'one': 1, 'small': 1, 'positive': 1, 'thought': 1, 'in': 1, 'the': 1, 'morning': 1, 'can': 1, 'change': 1, 'your': 1, 'whole': 1, 'day': 1}\n",
            "{'You': 1, 'can': 1, 'get': 2, 'everything': 1, 'in': 1, 'life': 1, 'you': 2, 'want': 2, 'if': 1, 'will': 1, 'just': 1, 'help': 1, 'enough': 1, 'other': 1, 'people': 1, 'what': 1, 'they': 1}\n"
          ]
        }
      ]
    },
    {
      "cell_type": "code",
      "source": [
        "#Cau 4\n"
      ],
      "metadata": {
        "id": "nZ-5F5fieh78"
      },
      "execution_count": null,
      "outputs": []
    }
  ]
}